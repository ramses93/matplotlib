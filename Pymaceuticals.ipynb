{
 "cells": [
  {
   "cell_type": "markdown",
   "metadata": {},
   "source": [
    "## Observations and Insights "
   ]
  },
  {
   "cell_type": "markdown",
   "metadata": {},
   "source": []
  },
  {
   "cell_type": "code",
   "execution_count": 9,
   "metadata": {},
   "outputs": [
    {
     "output_type": "execute_result",
     "data": {
      "text/plain": [
       "  Mouse ID Drug Regimen   Sex  Age_months  Weight (g)  Timepoint  \\\n",
       "0     k403     Ramicane  Male          21          16          0   \n",
       "1     k403     Ramicane  Male          21          16          5   \n",
       "2     k403     Ramicane  Male          21          16         10   \n",
       "3     k403     Ramicane  Male          21          16         15   \n",
       "4     k403     Ramicane  Male          21          16         20   \n",
       "\n",
       "   Tumor Volume (mm3)  Metastatic Sites  \n",
       "0           45.000000                 0  \n",
       "1           38.825898                 0  \n",
       "2           35.014271                 1  \n",
       "3           34.223992                 1  \n",
       "4           32.997729                 1  "
      ],
      "text/html": "<div>\n<style scoped>\n    .dataframe tbody tr th:only-of-type {\n        vertical-align: middle;\n    }\n\n    .dataframe tbody tr th {\n        vertical-align: top;\n    }\n\n    .dataframe thead th {\n        text-align: right;\n    }\n</style>\n<table border=\"1\" class=\"dataframe\">\n  <thead>\n    <tr style=\"text-align: right;\">\n      <th></th>\n      <th>Mouse ID</th>\n      <th>Drug Regimen</th>\n      <th>Sex</th>\n      <th>Age_months</th>\n      <th>Weight (g)</th>\n      <th>Timepoint</th>\n      <th>Tumor Volume (mm3)</th>\n      <th>Metastatic Sites</th>\n    </tr>\n  </thead>\n  <tbody>\n    <tr>\n      <th>0</th>\n      <td>k403</td>\n      <td>Ramicane</td>\n      <td>Male</td>\n      <td>21</td>\n      <td>16</td>\n      <td>0</td>\n      <td>45.000000</td>\n      <td>0</td>\n    </tr>\n    <tr>\n      <th>1</th>\n      <td>k403</td>\n      <td>Ramicane</td>\n      <td>Male</td>\n      <td>21</td>\n      <td>16</td>\n      <td>5</td>\n      <td>38.825898</td>\n      <td>0</td>\n    </tr>\n    <tr>\n      <th>2</th>\n      <td>k403</td>\n      <td>Ramicane</td>\n      <td>Male</td>\n      <td>21</td>\n      <td>16</td>\n      <td>10</td>\n      <td>35.014271</td>\n      <td>1</td>\n    </tr>\n    <tr>\n      <th>3</th>\n      <td>k403</td>\n      <td>Ramicane</td>\n      <td>Male</td>\n      <td>21</td>\n      <td>16</td>\n      <td>15</td>\n      <td>34.223992</td>\n      <td>1</td>\n    </tr>\n    <tr>\n      <th>4</th>\n      <td>k403</td>\n      <td>Ramicane</td>\n      <td>Male</td>\n      <td>21</td>\n      <td>16</td>\n      <td>20</td>\n      <td>32.997729</td>\n      <td>1</td>\n    </tr>\n  </tbody>\n</table>\n</div>"
     },
     "metadata": {},
     "execution_count": 9
    }
   ],
   "source": [
    "# Dependencies and Setup\n",
    "import matplotlib.pyplot as plt\n",
    "import pandas as pd\n",
    "import scipy.stats as st\n",
    "from scipy.stats import linregress\n",
    "from scipy.stats import sem\n",
    "import numpy as np\n",
    "\n",
    "# Study data files\n",
    "mouse_metadata_path = \"data/Mouse_metadata.csv\"\n",
    "study_results_path = \"data/Study_results.csv\"\n",
    "\n",
    "# Read the mouse data and the study results\n",
    "mouse_metadata = pd.read_csv(mouse_metadata_path)\n",
    "study_results = pd.read_csv(study_results_path)\n",
    "\n",
    "# Combine the data into a single dataset\n",
    "df_data = pd.merge(mouse_metadata, study_results, how = 'outer', on = \"Mouse ID\")\n",
    "df_data.head()\n",
    "\n",
    "# Display the data table for preview\n"
   ]
  },
  {
   "cell_type": "code",
   "execution_count": 17,
   "metadata": {},
   "outputs": [
    {
     "output_type": "execute_result",
     "data": {
      "text/plain": [
       "   Number of Mice\n",
       "0             249"
      ],
      "text/html": "<div>\n<style scoped>\n    .dataframe tbody tr th:only-of-type {\n        vertical-align: middle;\n    }\n\n    .dataframe tbody tr th {\n        vertical-align: top;\n    }\n\n    .dataframe thead th {\n        text-align: right;\n    }\n</style>\n<table border=\"1\" class=\"dataframe\">\n  <thead>\n    <tr style=\"text-align: right;\">\n      <th></th>\n      <th>Number of Mice</th>\n    </tr>\n  </thead>\n  <tbody>\n    <tr>\n      <th>0</th>\n      <td>249</td>\n    </tr>\n  </tbody>\n</table>\n</div>"
     },
     "metadata": {},
     "execution_count": 17
    }
   ],
   "source": [
    "# Checking the number of mice.\n",
    "mouse = df_data[\"Mouse ID\"].unique()\n",
    "total_mice = len(mouse)\n",
    "\n",
    "pd.DataFrame({\"Number of Mice\": [total_mice]})"
   ]
  },
  {
   "cell_type": "code",
   "execution_count": 25,
   "metadata": {},
   "outputs": [
    {
     "output_type": "execute_result",
     "data": {
      "text/plain": [
       "g989    13\n",
       "o926    10\n",
       "q787    10\n",
       "c832    10\n",
       "e213    10\n",
       "Name: Mouse ID, dtype: int64"
      ]
     },
     "metadata": {},
     "execution_count": 25
    }
   ],
   "source": [
    "# Getting the duplicate mice by ID number that shows up for Mouse ID and Timepoint.\n",
    "df_data[\"Mouse ID\"].value_counts().head()"
   ]
  },
  {
   "cell_type": "code",
   "execution_count": 28,
   "metadata": {},
   "outputs": [
    {
     "output_type": "execute_result",
     "data": {
      "text/plain": [
       "         Drug Regimen     Sex  Age_months  Weight (g)  Timepoint  \\\n",
       "Mouse ID                                                           \n",
       "g989         Propriva  Female          21          26          0   \n",
       "g989         Propriva  Female          21          26          0   \n",
       "g989         Propriva  Female          21          26          5   \n",
       "g989         Propriva  Female          21          26          5   \n",
       "g989         Propriva  Female          21          26         10   \n",
       "\n",
       "          Tumor Volume (mm3)  Metastatic Sites  \n",
       "Mouse ID                                        \n",
       "g989               45.000000                 0  \n",
       "g989               45.000000                 0  \n",
       "g989               48.786801                 0  \n",
       "g989               47.570392                 0  \n",
       "g989               51.745156                 0  "
      ],
      "text/html": "<div>\n<style scoped>\n    .dataframe tbody tr th:only-of-type {\n        vertical-align: middle;\n    }\n\n    .dataframe tbody tr th {\n        vertical-align: top;\n    }\n\n    .dataframe thead th {\n        text-align: right;\n    }\n</style>\n<table border=\"1\" class=\"dataframe\">\n  <thead>\n    <tr style=\"text-align: right;\">\n      <th></th>\n      <th>Drug Regimen</th>\n      <th>Sex</th>\n      <th>Age_months</th>\n      <th>Weight (g)</th>\n      <th>Timepoint</th>\n      <th>Tumor Volume (mm3)</th>\n      <th>Metastatic Sites</th>\n    </tr>\n    <tr>\n      <th>Mouse ID</th>\n      <th></th>\n      <th></th>\n      <th></th>\n      <th></th>\n      <th></th>\n      <th></th>\n      <th></th>\n    </tr>\n  </thead>\n  <tbody>\n    <tr>\n      <th>g989</th>\n      <td>Propriva</td>\n      <td>Female</td>\n      <td>21</td>\n      <td>26</td>\n      <td>0</td>\n      <td>45.000000</td>\n      <td>0</td>\n    </tr>\n    <tr>\n      <th>g989</th>\n      <td>Propriva</td>\n      <td>Female</td>\n      <td>21</td>\n      <td>26</td>\n      <td>0</td>\n      <td>45.000000</td>\n      <td>0</td>\n    </tr>\n    <tr>\n      <th>g989</th>\n      <td>Propriva</td>\n      <td>Female</td>\n      <td>21</td>\n      <td>26</td>\n      <td>5</td>\n      <td>48.786801</td>\n      <td>0</td>\n    </tr>\n    <tr>\n      <th>g989</th>\n      <td>Propriva</td>\n      <td>Female</td>\n      <td>21</td>\n      <td>26</td>\n      <td>5</td>\n      <td>47.570392</td>\n      <td>0</td>\n    </tr>\n    <tr>\n      <th>g989</th>\n      <td>Propriva</td>\n      <td>Female</td>\n      <td>21</td>\n      <td>26</td>\n      <td>10</td>\n      <td>51.745156</td>\n      <td>0</td>\n    </tr>\n  </tbody>\n</table>\n</div>"
     },
     "metadata": {},
     "execution_count": 28
    }
   ],
   "source": [
    "# Optional: Get all the data for the duplicate mouse ID. \n",
    "df_data_mice = df_data.set_index(\"Mouse ID\")\n",
    "mouse = df_data_mice.loc['g989', :]\n",
    "mouse.head()"
   ]
  },
  {
   "cell_type": "code",
   "execution_count": 39,
   "metadata": {},
   "outputs": [
    {
     "output_type": "execute_result",
     "data": {
      "text/plain": [
       "  Mouse ID Drug Regimen   Sex  Age_months  Weight (g)  Timepoint  \\\n",
       "0     k403     Ramicane  Male          21          16          0   \n",
       "1     k403     Ramicane  Male          21          16          5   \n",
       "2     k403     Ramicane  Male          21          16         10   \n",
       "3     k403     Ramicane  Male          21          16         15   \n",
       "4     k403     Ramicane  Male          21          16         20   \n",
       "\n",
       "   Tumor Volume (mm3)  Metastatic Sites  \n",
       "0           45.000000                 0  \n",
       "1           38.825898                 0  \n",
       "2           35.014271                 1  \n",
       "3           34.223992                 1  \n",
       "4           32.997729                 1  "
      ],
      "text/html": "<div>\n<style scoped>\n    .dataframe tbody tr th:only-of-type {\n        vertical-align: middle;\n    }\n\n    .dataframe tbody tr th {\n        vertical-align: top;\n    }\n\n    .dataframe thead th {\n        text-align: right;\n    }\n</style>\n<table border=\"1\" class=\"dataframe\">\n  <thead>\n    <tr style=\"text-align: right;\">\n      <th></th>\n      <th>Mouse ID</th>\n      <th>Drug Regimen</th>\n      <th>Sex</th>\n      <th>Age_months</th>\n      <th>Weight (g)</th>\n      <th>Timepoint</th>\n      <th>Tumor Volume (mm3)</th>\n      <th>Metastatic Sites</th>\n    </tr>\n  </thead>\n  <tbody>\n    <tr>\n      <th>0</th>\n      <td>k403</td>\n      <td>Ramicane</td>\n      <td>Male</td>\n      <td>21</td>\n      <td>16</td>\n      <td>0</td>\n      <td>45.000000</td>\n      <td>0</td>\n    </tr>\n    <tr>\n      <th>1</th>\n      <td>k403</td>\n      <td>Ramicane</td>\n      <td>Male</td>\n      <td>21</td>\n      <td>16</td>\n      <td>5</td>\n      <td>38.825898</td>\n      <td>0</td>\n    </tr>\n    <tr>\n      <th>2</th>\n      <td>k403</td>\n      <td>Ramicane</td>\n      <td>Male</td>\n      <td>21</td>\n      <td>16</td>\n      <td>10</td>\n      <td>35.014271</td>\n      <td>1</td>\n    </tr>\n    <tr>\n      <th>3</th>\n      <td>k403</td>\n      <td>Ramicane</td>\n      <td>Male</td>\n      <td>21</td>\n      <td>16</td>\n      <td>15</td>\n      <td>34.223992</td>\n      <td>1</td>\n    </tr>\n    <tr>\n      <th>4</th>\n      <td>k403</td>\n      <td>Ramicane</td>\n      <td>Male</td>\n      <td>21</td>\n      <td>16</td>\n      <td>20</td>\n      <td>32.997729</td>\n      <td>1</td>\n    </tr>\n  </tbody>\n</table>\n</div>"
     },
     "metadata": {},
     "execution_count": 39
    }
   ],
   "source": [
    "# Create a clean DataFrame by dropping the duplicate mouse by its ID.\n",
    "clean_mice_data = df_data_mice.drop(index = \"g989\")\n",
    "clean_df_data = clean_mice_data.reset_index()\n",
    "clean_df_data.head()"
   ]
  },
  {
   "cell_type": "code",
   "execution_count": 57,
   "metadata": {},
   "outputs": [
    {
     "output_type": "stream",
     "name": "stdout",
     "text": [
      "248\n"
     ]
    }
   ],
   "source": [
    "# Checking the number of mice in the clean DataFrame.\n",
    "clean_mice = clean_df_data[\"Mouse ID\"].value_counts()\n",
    "clean_number_of_mice = len(clean_mice)\n",
    "print(clean_number_of_mice)"
   ]
  },
  {
   "cell_type": "markdown",
   "metadata": {},
   "source": [
    "## Summary Statistics"
   ]
  },
  {
   "cell_type": "code",
   "execution_count": 55,
   "metadata": {},
   "outputs": [
    {
     "output_type": "stream",
     "name": "stdout",
     "text": [
      "                   Mean     Median   Variance  Standard Deviation       SEM\nDrug Regimen                                                               \nCapomulin     40.675741  41.557809  24.947764            4.994774  0.329346\nCeftamin      52.591172  51.776157  39.290177            6.268188  0.469821\nInfubinol     52.884795  51.820584  43.128684            6.567243  0.492236\nKetapril      55.235638  53.698743  68.553577            8.279709  0.603860\nNaftisol      54.331565  52.509285  66.173479            8.134708  0.596466\nPlacebo       54.033581  52.288934  61.168083            7.821003  0.581331\nPropriva      52.320930  50.446266  43.852013            6.622085  0.544332\nRamicane      40.216745  40.673236  23.486704            4.846308  0.320955\nStelasyn      54.233149  52.431737  59.450562            7.710419  0.573111\nZoniferol     53.236507  51.818479  48.533355            6.966589  0.516398\n"
     ]
    }
   ],
   "source": [
    "# Generate a summary statistics table of mean, median, variance, standard deviation, and SEM of the tumor volume for each regimen\n",
    "\n",
    "# Use groupby and summary statistical methods to calculate the following properties of each drug regimen.\n",
    "# mean, median, variance, standard deviation, and SEM of the tumor volume.\n",
    "tumor_mean = clean_df_data.groupby(\"Drug Regimen\").mean()[\"Tumor Volume (mm3)\"]\n",
    "tumor_median = clean_df_data.groupby(\"Drug Regimen\").median()[\"Tumor Volume (mm3)\"]\n",
    "tumor_var = clean_df_data.groupby(\"Drug Regimen\").var()[\"Tumor Volume (mm3)\"]\n",
    "tumor_stdev = clean_df_data.groupby(\"Drug Regimen\").std()[\"Tumor Volume (mm3)\"]\n",
    "tumor_sem = clean_df_data.groupby(\"Drug Regimen\").sem()[\"Tumor Volume (mm3)\"]\n",
    "\n",
    "# Assemble the resulting series into a single summary dataframe.\n",
    "df_grouped_summary = pd.DataFrame({\"Mean\":tumor_mean,\"Median\":tumor_median,\"Variance\":tumor_var,\"Standard Deviation\":tumor_stdev,\"SEM\":tumor_sem})\n",
    "\n",
    "print(df_grouped_summary)"
   ]
  },
  {
   "cell_type": "code",
   "execution_count": 8,
   "metadata": {},
   "outputs": [],
   "source": [
    "# Generate a summary statistics table of mean, median, variance, standard deviation, and SEM of the tumor volume for each regimen\n",
    "\n",
    "# Using the aggregation method, produce the same summary statistics in a single line\n"
   ]
  },
  {
   "cell_type": "markdown",
   "metadata": {},
   "source": [
    "## Bar and Pie Charts"
   ]
  },
  {
   "cell_type": "code",
   "execution_count": 9,
   "metadata": {},
   "outputs": [],
   "source": [
    "# Generate a bar plot showing the total number of unique mice tested on each drug regimen using pandas.\n",
    "\n"
   ]
  },
  {
   "cell_type": "code",
   "execution_count": 10,
   "metadata": {},
   "outputs": [],
   "source": [
    "# Generate a bar plot showing the total number of unique mice tested on each drug regimen using pyplot.\n",
    "\n"
   ]
  },
  {
   "cell_type": "code",
   "execution_count": 11,
   "metadata": {},
   "outputs": [],
   "source": [
    "# Generate a pie plot showing the distribution of female versus male mice using pandas\n",
    "\n"
   ]
  },
  {
   "cell_type": "code",
   "execution_count": 12,
   "metadata": {},
   "outputs": [],
   "source": [
    "# Generate a pie plot showing the distribution of female versus male mice using pyplot\n",
    "\n"
   ]
  },
  {
   "cell_type": "markdown",
   "metadata": {},
   "source": [
    "## Quartiles, Outliers and Boxplots"
   ]
  },
  {
   "cell_type": "code",
   "execution_count": 13,
   "metadata": {},
   "outputs": [],
   "source": [
    "# Calculate the final tumor volume of each mouse across four of the treatment regimens:  \n",
    "# Capomulin, Ramicane, Infubinol, and Ceftamin\n",
    "\n",
    "# Start by getting the last (greatest) timepoint for each mouse\n",
    "\n",
    "\n",
    "# Merge this group df with the original dataframe to get the tumor volume at the last timepoint\n"
   ]
  },
  {
   "cell_type": "code",
   "execution_count": 14,
   "metadata": {},
   "outputs": [],
   "source": [
    "# Put treatments into a list for for loop (and later for plot labels)\n",
    "\n",
    "\n",
    "# Create empty list to fill with tumor vol data (for plotting)\n",
    "\n",
    "\n",
    "# Calculate the IQR and quantitatively determine if there are any potential outliers. \n",
    "\n",
    "    \n",
    "    # Locate the rows which contain mice on each drug and get the tumor volumes\n",
    "    \n",
    "    \n",
    "    # add subset \n",
    "    \n",
    "    \n",
    "    # Determine outliers using upper and lower bounds\n",
    "    "
   ]
  },
  {
   "cell_type": "code",
   "execution_count": 15,
   "metadata": {},
   "outputs": [],
   "source": [
    "# Generate a box plot of the final tumor volume of each mouse across four regimens of interest\n"
   ]
  },
  {
   "cell_type": "markdown",
   "metadata": {},
   "source": [
    "## Line and Scatter Plots"
   ]
  },
  {
   "cell_type": "code",
   "execution_count": 16,
   "metadata": {},
   "outputs": [],
   "source": [
    "# Generate a line plot of tumor volume vs. time point for a mouse treated with Capomulin\n"
   ]
  },
  {
   "cell_type": "code",
   "execution_count": 17,
   "metadata": {},
   "outputs": [],
   "source": [
    "# Generate a scatter plot of average tumor volume vs. mouse weight for the Capomulin regimen\n"
   ]
  },
  {
   "cell_type": "markdown",
   "metadata": {},
   "source": [
    "## Correlation and Regression"
   ]
  },
  {
   "cell_type": "code",
   "execution_count": 18,
   "metadata": {},
   "outputs": [],
   "source": [
    "# Calculate the correlation coefficient and linear regression model \n",
    "# for mouse weight and average tumor volume for the Capomulin regimen\n"
   ]
  },
  {
   "cell_type": "code",
   "execution_count": null,
   "metadata": {},
   "outputs": [],
   "source": []
  }
 ],
 "metadata": {
  "anaconda-cloud": {},
  "kernelspec": {
   "name": "python385jvsc74a57bd0ab59e8833a1c1a953fc61f7ebdf031460480fd348b396cef269440458dbce55f",
   "display_name": "Python 3.8.5 64-bit ('base': conda)"
  },
  "language_info": {
   "codemirror_mode": {
    "name": "ipython",
    "version": 3
   },
   "file_extension": ".py",
   "mimetype": "text/x-python",
   "name": "python",
   "nbconvert_exporter": "python",
   "pygments_lexer": "ipython3",
   "version": "3.8.5"
  }
 },
 "nbformat": 4,
 "nbformat_minor": 4
}